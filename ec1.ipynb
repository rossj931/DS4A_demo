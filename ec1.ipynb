{
 "cells": [
  {
   "cell_type": "markdown",
   "metadata": {},
   "source": [
    "<h1>How can we control the increasing number of accidents in New York?</h1>"
   ]
  },
  {
   "cell_type": "code",
   "execution_count": 2,
   "metadata": {},
   "outputs": [],
   "source": [
    "import json\n",
    "import requests\n",
    "from bs4 import BeautifulSoup\n",
    "import pandas as pd\n",
    "import matplotlib.pyplot as plt\n",
    "import seaborn as sns\n",
    "import numpy"
   ]
  },
  {
   "cell_type": "markdown",
   "metadata": {},
   "source": [
    "<h2>Introduction</h2>"
   ]
  },
  {
   "cell_type": "markdown",
   "metadata": {},
   "source": [
    "<p><strong>Business Context.</strong> The city of New York has seen a rise in the number of accidents on the roads in the city. They would like to know if the number of accidents have increased in the last few weeks. For all the reported accidents, they have collected details for each accident and have been maintaining records for the past year and a half (from January 2018 to August 2019). </p>\n",
    "<p>The city has contracted you to build visualizations that would help them identify patterns in accidents, which would help them take preventive actions to reduce the number of accidents in the future. They have certain parameters like borough, time of day, reason for accident, etc. Which they care about and which they would like to get specific information on.</p>"
   ]
  },
  {
   "cell_type": "markdown",
   "metadata": {},
   "source": [
    "<p><strong>Business Problem.</strong> Your task is to format the given data and provide visualizations that would answer the specific questions the client has, which are mentioned below.</p>"
   ]
  },
  {
   "cell_type": "markdown",
   "metadata": {},
   "source": [
    "<p><strong>Analytical Context.</strong> You are given a CSV file (stored in the already created <code>data</code> folder) containing details about each accident like date, time, location of the accident, reason for the accident, types of vehicles involved, injury and death count, etc. The delimiter in the given CSV file is <code>;</code> instead of the default <code>,</code>. You will be performing the following tasks on the data:</p>\n",
    "<ol>\n",
    "<li>Extract additional borough data stored in a JSON file</li>\n",
    "<li>Read, transform, and prepare data for visualization</li>\n",
    "<li>Perform analytics and construct visualizations of the data to identify patterns in the dataset</li>\n",
    "</ol>\n",
    "<p>The client has a specific set of questions they would like to get answers to. You will need to provide visualizations to accompany these:</p>\n",
    "<ol>\n",
    "<li>How have the number of accidents fluctuated over the past year and a half? Have they increased over the time?</li>\n",
    "<li>For any particular day, during which hours are accidents most likely to occur?</li>\n",
    "<li>Are there more accidents on weekdays than weekends?</li>\n",
    "<li>What are the accidents count-to-area ratio per borough? Which boroughs have disproportionately large numbers of accidents for their size?</li>\n",
    "<li>For each borough, during which hours are accidents most likely to occur?</li>\n",
    "<li>What are the top 5 causes of accidents in the city? </li>\n",
    "<li>What types of vehicles are most involved in accidents per borough?</li>\n",
    "<li>What types of vehicles are most involved in deaths?</li>\n",
    "</ol>"
   ]
  },
  {
   "cell_type": "markdown",
   "metadata": {},
   "source": [
    "<h2>Fetching the relevant data</h2>"
   ]
  },
  {
   "cell_type": "markdown",
   "metadata": {},
   "source": [
    "<p>The client has requested analysis of the accidents-to-area ratio for boroughs. Borough data is stored in a JSON file in the <code>data</code> folder.</p>"
   ]
  },
  {
   "cell_type": "markdown",
   "metadata": {},
   "source": [
    "<h3>Question :</h3>\n",
    "<p>Use the function <code>json.load()</code> to load the file <code>borough_data.json</code> as a dictionary.</p>"
   ]
  },
  {
   "cell_type": "markdown",
   "metadata": {
    "tags": [
     "ans_st"
    ]
   },
   "source": [
    "**Answer.**"
   ]
  },
  {
   "cell_type": "code",
   "execution_count": 3,
   "metadata": {},
   "outputs": [
    {
     "data": {
      "text/plain": [
       "{'the bronx': {'name': 'the bronx', 'population': 1471160.0, 'area': 42.1},\n",
       " 'brooklyn': {'name': 'brooklyn', 'population': 2648771.0, 'area': 70.82},\n",
       " 'manhattan': {'name': 'manhattan', 'population': 1664727.0, 'area': 22.83},\n",
       " 'queens': {'name': 'queens', 'population': 2358582.0, 'area': 108.53},\n",
       " 'staten island': {'name': 'staten island',\n",
       "  'population': 479458.0,\n",
       "  'area': 58.37}}"
      ]
     },
     "execution_count": 3,
     "metadata": {},
     "output_type": "execute_result"
    }
   ],
   "source": [
    "with open('data/borough_data.json') as f:\n",
    "    borough_data = json.load(f)\n",
    "    \n",
    "borough_data"
   ]
  },
  {
   "cell_type": "markdown",
   "metadata": {},
   "source": [
    "<h3>Question :</h3>\n",
    "<p>Similarly, use the pandas function <code>read_csv()</code> to load the file <code>accidents.csv</code> as a DataFrame. Name this DataFrame <code>df</code>. </p>"
   ]
  },
  {
   "cell_type": "markdown",
   "metadata": {
    "tags": [
     "ans_st"
    ]
   },
   "source": [
    "**Answer.**"
   ]
  },
  {
   "cell_type": "code",
   "execution_count": 4,
   "metadata": {},
   "outputs": [
    {
     "data": {
      "text/html": [
       "<div>\n",
       "<style scoped>\n",
       "    .dataframe tbody tr th:only-of-type {\n",
       "        vertical-align: middle;\n",
       "    }\n",
       "\n",
       "    .dataframe tbody tr th {\n",
       "        vertical-align: top;\n",
       "    }\n",
       "\n",
       "    .dataframe thead th {\n",
       "        text-align: right;\n",
       "    }\n",
       "</style>\n",
       "<table border=\"1\" class=\"dataframe\">\n",
       "  <thead>\n",
       "    <tr style=\"text-align: right;\">\n",
       "      <th></th>\n",
       "      <th>DATE</th>\n",
       "      <th>TIME</th>\n",
       "      <th>BOROUGH</th>\n",
       "      <th>ZIP CODE</th>\n",
       "      <th>LATITUDE</th>\n",
       "      <th>LONGITUDE</th>\n",
       "      <th>ON STREET NAME</th>\n",
       "      <th>NUMBER OF PEDESTRIANS INJURED</th>\n",
       "      <th>NUMBER OF PEDESTRIANS KILLED</th>\n",
       "      <th>NUMBER OF CYCLIST INJURED</th>\n",
       "      <th>...</th>\n",
       "      <th>CONTRIBUTING FACTOR VEHICLE 2</th>\n",
       "      <th>CONTRIBUTING FACTOR VEHICLE 3</th>\n",
       "      <th>CONTRIBUTING FACTOR VEHICLE 4</th>\n",
       "      <th>CONTRIBUTING FACTOR VEHICLE 5</th>\n",
       "      <th>COLLISION_ID</th>\n",
       "      <th>VEHICLE TYPE CODE 1</th>\n",
       "      <th>VEHICLE TYPE CODE 2</th>\n",
       "      <th>VEHICLE TYPE CODE 3</th>\n",
       "      <th>VEHICLE TYPE CODE 4</th>\n",
       "      <th>VEHICLE TYPE CODE 5</th>\n",
       "    </tr>\n",
       "  </thead>\n",
       "  <tbody>\n",
       "    <tr>\n",
       "      <th>0</th>\n",
       "      <td>09/26/2018</td>\n",
       "      <td>12:12</td>\n",
       "      <td>BRONX</td>\n",
       "      <td>10454.0</td>\n",
       "      <td>40.808987</td>\n",
       "      <td>-73.911316</td>\n",
       "      <td>NaN</td>\n",
       "      <td>0</td>\n",
       "      <td>0</td>\n",
       "      <td>0</td>\n",
       "      <td>...</td>\n",
       "      <td>NaN</td>\n",
       "      <td>NaN</td>\n",
       "      <td>NaN</td>\n",
       "      <td>NaN</td>\n",
       "      <td>3988123</td>\n",
       "      <td>Sedan</td>\n",
       "      <td>NaN</td>\n",
       "      <td>NaN</td>\n",
       "      <td>NaN</td>\n",
       "      <td>NaN</td>\n",
       "    </tr>\n",
       "    <tr>\n",
       "      <th>1</th>\n",
       "      <td>09/25/2018</td>\n",
       "      <td>16:30</td>\n",
       "      <td>BROOKLYN</td>\n",
       "      <td>11236.0</td>\n",
       "      <td>40.636005</td>\n",
       "      <td>-73.912510</td>\n",
       "      <td>FLATLANDS AVENUE</td>\n",
       "      <td>1</td>\n",
       "      <td>0</td>\n",
       "      <td>0</td>\n",
       "      <td>...</td>\n",
       "      <td>NaN</td>\n",
       "      <td>NaN</td>\n",
       "      <td>NaN</td>\n",
       "      <td>NaN</td>\n",
       "      <td>3987962</td>\n",
       "      <td>Sedan</td>\n",
       "      <td>NaN</td>\n",
       "      <td>NaN</td>\n",
       "      <td>NaN</td>\n",
       "      <td>NaN</td>\n",
       "    </tr>\n",
       "    <tr>\n",
       "      <th>2</th>\n",
       "      <td>08/22/2019</td>\n",
       "      <td>19:30</td>\n",
       "      <td>QUEENS</td>\n",
       "      <td>11101.0</td>\n",
       "      <td>40.755490</td>\n",
       "      <td>-73.939530</td>\n",
       "      <td>NaN</td>\n",
       "      <td>0</td>\n",
       "      <td>0</td>\n",
       "      <td>0</td>\n",
       "      <td>...</td>\n",
       "      <td>NaN</td>\n",
       "      <td>NaN</td>\n",
       "      <td>NaN</td>\n",
       "      <td>NaN</td>\n",
       "      <td>4193132</td>\n",
       "      <td>Sedan</td>\n",
       "      <td>NaN</td>\n",
       "      <td>NaN</td>\n",
       "      <td>NaN</td>\n",
       "      <td>NaN</td>\n",
       "    </tr>\n",
       "    <tr>\n",
       "      <th>3</th>\n",
       "      <td>09/23/2018</td>\n",
       "      <td>13:10</td>\n",
       "      <td>QUEENS</td>\n",
       "      <td>11367.0</td>\n",
       "      <td>NaN</td>\n",
       "      <td>NaN</td>\n",
       "      <td>MAIN STREET</td>\n",
       "      <td>0</td>\n",
       "      <td>0</td>\n",
       "      <td>1</td>\n",
       "      <td>...</td>\n",
       "      <td>Unspecified</td>\n",
       "      <td>NaN</td>\n",
       "      <td>NaN</td>\n",
       "      <td>NaN</td>\n",
       "      <td>3985962</td>\n",
       "      <td>Bike</td>\n",
       "      <td>Station Wagon/Sport Utility Vehicle</td>\n",
       "      <td>NaN</td>\n",
       "      <td>NaN</td>\n",
       "      <td>NaN</td>\n",
       "    </tr>\n",
       "    <tr>\n",
       "      <th>4</th>\n",
       "      <td>08/20/2019</td>\n",
       "      <td>22:40</td>\n",
       "      <td>BRONX</td>\n",
       "      <td>10468.0</td>\n",
       "      <td>40.868336</td>\n",
       "      <td>-73.901270</td>\n",
       "      <td>NaN</td>\n",
       "      <td>0</td>\n",
       "      <td>0</td>\n",
       "      <td>0</td>\n",
       "      <td>...</td>\n",
       "      <td>Unspecified</td>\n",
       "      <td>NaN</td>\n",
       "      <td>NaN</td>\n",
       "      <td>NaN</td>\n",
       "      <td>4192111</td>\n",
       "      <td>Sedan</td>\n",
       "      <td>Sedan</td>\n",
       "      <td>NaN</td>\n",
       "      <td>NaN</td>\n",
       "      <td>NaN</td>\n",
       "    </tr>\n",
       "  </tbody>\n",
       "</table>\n",
       "<p>5 rows × 24 columns</p>\n",
       "</div>"
      ],
      "text/plain": [
       "         DATE   TIME   BOROUGH  ZIP CODE   LATITUDE  LONGITUDE  \\\n",
       "0  09/26/2018  12:12     BRONX   10454.0  40.808987 -73.911316   \n",
       "1  09/25/2018  16:30  BROOKLYN   11236.0  40.636005 -73.912510   \n",
       "2  08/22/2019  19:30    QUEENS   11101.0  40.755490 -73.939530   \n",
       "3  09/23/2018  13:10    QUEENS   11367.0        NaN        NaN   \n",
       "4  08/20/2019  22:40     BRONX   10468.0  40.868336 -73.901270   \n",
       "\n",
       "                     ON STREET NAME  NUMBER OF PEDESTRIANS INJURED  \\\n",
       "0                               NaN                              0   \n",
       "1  FLATLANDS AVENUE                                              1   \n",
       "2                               NaN                              0   \n",
       "3  MAIN STREET                                                   0   \n",
       "4                               NaN                              0   \n",
       "\n",
       "   NUMBER OF PEDESTRIANS KILLED  NUMBER OF CYCLIST INJURED  \\\n",
       "0                             0                          0   \n",
       "1                             0                          0   \n",
       "2                             0                          0   \n",
       "3                             0                          1   \n",
       "4                             0                          0   \n",
       "\n",
       "          ...          CONTRIBUTING FACTOR VEHICLE 2  \\\n",
       "0         ...                                    NaN   \n",
       "1         ...                                    NaN   \n",
       "2         ...                                    NaN   \n",
       "3         ...                            Unspecified   \n",
       "4         ...                            Unspecified   \n",
       "\n",
       "   CONTRIBUTING FACTOR VEHICLE 3  CONTRIBUTING FACTOR VEHICLE 4  \\\n",
       "0                            NaN                            NaN   \n",
       "1                            NaN                            NaN   \n",
       "2                            NaN                            NaN   \n",
       "3                            NaN                            NaN   \n",
       "4                            NaN                            NaN   \n",
       "\n",
       "  CONTRIBUTING FACTOR VEHICLE 5 COLLISION_ID VEHICLE TYPE CODE 1  \\\n",
       "0                           NaN      3988123               Sedan   \n",
       "1                           NaN      3987962               Sedan   \n",
       "2                           NaN      4193132               Sedan   \n",
       "3                           NaN      3985962                Bike   \n",
       "4                           NaN      4192111               Sedan   \n",
       "\n",
       "                   VEHICLE TYPE CODE 2 VEHICLE TYPE CODE 3  \\\n",
       "0                                  NaN                 NaN   \n",
       "1                                  NaN                 NaN   \n",
       "2                                  NaN                 NaN   \n",
       "3  Station Wagon/Sport Utility Vehicle                 NaN   \n",
       "4                                Sedan                 NaN   \n",
       "\n",
       "   VEHICLE TYPE CODE 4 VEHICLE TYPE CODE 5  \n",
       "0                  NaN                 NaN  \n",
       "1                  NaN                 NaN  \n",
       "2                  NaN                 NaN  \n",
       "3                  NaN                 NaN  \n",
       "4                  NaN                 NaN  \n",
       "\n",
       "[5 rows x 24 columns]"
      ]
     },
     "execution_count": 4,
     "metadata": {},
     "output_type": "execute_result"
    }
   ],
   "source": [
    "df = pd.read_csv('data/accidents.csv', sep=';')\n",
    "\n",
    "df.head()"
   ]
  },
  {
   "cell_type": "markdown",
   "metadata": {},
   "source": [
    "<h2>Overview of the data</h2>"
   ]
  },
  {
   "cell_type": "markdown",
   "metadata": {},
   "source": [
    "<p>Let's go through the columns present in the dataframe:</p>"
   ]
  },
  {
   "cell_type": "code",
   "execution_count": 6,
   "metadata": {},
   "outputs": [
    {
     "data": {
      "text/plain": [
       "Index(['DATE', 'TIME', 'BOROUGH', 'ZIP CODE', 'LATITUDE', 'LONGITUDE',\n",
       "       'ON STREET NAME', 'NUMBER OF PEDESTRIANS INJURED',\n",
       "       'NUMBER OF PEDESTRIANS KILLED', 'NUMBER OF CYCLIST INJURED',\n",
       "       'NUMBER OF CYCLIST KILLED', 'NUMBER OF MOTORIST INJURED',\n",
       "       'NUMBER OF MOTORIST KILLED', 'CONTRIBUTING FACTOR VEHICLE 1',\n",
       "       'CONTRIBUTING FACTOR VEHICLE 2', 'CONTRIBUTING FACTOR VEHICLE 3',\n",
       "       'CONTRIBUTING FACTOR VEHICLE 4', 'CONTRIBUTING FACTOR VEHICLE 5',\n",
       "       'COLLISION_ID', 'VEHICLE TYPE CODE 1', 'VEHICLE TYPE CODE 2',\n",
       "       'VEHICLE TYPE CODE 3', 'VEHICLE TYPE CODE 4', 'VEHICLE TYPE CODE 5'],\n",
       "      dtype='object')"
      ]
     },
     "execution_count": 6,
     "metadata": {},
     "output_type": "execute_result"
    }
   ],
   "source": [
    "df.columns"
   ]
  },
  {
   "cell_type": "markdown",
   "metadata": {},
   "source": [
    "<p>We have the following columns</p>\n",
    "<ol>\n",
    "<li><strong>BOROUGH</strong>: The borough in which the accident occured</li>\n",
    "<li><strong>COLLISION_ID</strong>: A unique identifier for this collision</li>\n",
    "<li><strong>CONTRIBUTING FACTOR VEHICLE (1, 2, 3, 4, 5)</strong>: Reasons for the accident</li>\n",
    "<li><strong>CROSS STREET NAME</strong>: Nearest cross street to the place of accidents</li>\n",
    "<li><strong>DATE</strong>: Date of the accident</li>\n",
    "<li><strong>TIME</strong>: Time of accident</li>\n",
    "<li><strong>LATITUDE</strong>: Latitude of the accident</li>\n",
    "<li><strong>LONGITUDE</strong>: Longitude of the accident</li>\n",
    "<li><strong>NUMBER OF (CYCLISTS, MOTORISTS, PEDESTRIANS) INJURED</strong>: Category wise injury</li>\n",
    "<li><strong>NUMBER OF (CYCLISTS, MOTORISTS, PEDESTRIANS) KILLED</strong>: Category wise death</li>\n",
    "<li><strong>ON STREET NAME</strong>: Street where the accident occured</li>\n",
    "<li><strong>VEHICLE TYPE CODE (1, 2, 3, 4, 5)</strong>: Types of vehicles involved in the accident</li>\n",
    "<li><strong>ZIP CODE</strong>: zip code of the accident location</li>\n",
    "</ol>"
   ]
  },
  {
   "cell_type": "markdown",
   "metadata": {},
   "source": [
    "<h3>Exercise 1 :</h3>\n",
    "<p>Since 2014, New York City has been implementing a road safety plan named <a href=\"https://www1.nyc.gov/content/visionzero/pages/\">Vision Zero</a>. It aims to reduce the number of traffic deaths to <em>zero</em> by the end of 2024. The plan is creating new and enhancing current safety measures, some of these include:</p>\n",
    "<ul>\n",
    "<li>[ ] Automated pedestrian detection</li>\n",
    "<li>[ ] Road safety audits at high risk locations</li>\n",
    "<li>[ ] Expansion in the cycle track network</li>\n",
    "<li>[ ] Targeted education and awareness initiatives</li>\n",
    "<li>[ ] Creation of pedestrian refuge islands</li>\n",
    "<li>[ ] Launch Integrated Data-Driven Speed Reducer Program (speed humps &amp; speed cushions)</li>\n",
    "</ul>\n",
    "<p>Which of these initiatives could directly benefit from an analysis of the data provided? Check all that apply.</p>\n",
    "<p><strong>Note:</strong> You can create check marks by double-clicking this cell and adding an <code>[x]</code> in the corresponding lines. </p>"
   ]
  },
  {
   "cell_type": "markdown",
   "metadata": {
    "tags": [
     "ans_st"
    ]
   },
   "source": [
    "**Answer.**"
   ]
  },
  {
   "cell_type": "markdown",
   "metadata": {},
   "source": [
    "<li>[ ] Automated pedestrian detection</li>\n",
    "<li>[x] Road safety audits at high risk locations</li>\n",
    "<li>[x] Expansion in the cycle track network</li>\n",
    "<li>[x] Targeted education and awareness initiatives</li>\n",
    "<li>[x] Creation of pedestrian refuge islands</li>\n",
    "<li>[x] Launch Integrated Data-Driven Speed Reducer Program (speed humps &amp; speed cushions)</li>"
   ]
  },
  {
   "cell_type": "markdown",
   "metadata": {},
   "source": [
    "<p>Let's go ahead and answer each of the client's questions.</p>"
   ]
  },
  {
   "cell_type": "markdown",
   "metadata": {},
   "source": [
    "<h2>Answering the client's questions</h2>"
   ]
  },
  {
   "cell_type": "markdown",
   "metadata": {},
   "source": [
    "<h3>Exercise 2 :</h3>\n",
    "<p>Group the available data on a monthly basis and generate a line plot of accidents over time. Has the number of accidents increased over the past year and a half?</p>\n",
    "<p><strong>Hint</strong>: You may find the pandas functions <code>to_datetime()</code> and <code>dt.to_period()</code> useful.</p>"
   ]
  },
  {
   "cell_type": "markdown",
   "metadata": {
    "tags": [
     "ans_st"
    ]
   },
   "source": [
    "**Answer.**"
   ]
  },
  {
   "cell_type": "code",
   "execution_count": 7,
   "metadata": {},
   "outputs": [
    {
     "data": {
      "text/plain": [
       "DATE                              object\n",
       "TIME                              object\n",
       "BOROUGH                           object\n",
       "ZIP CODE                         float64\n",
       "LATITUDE                         float64\n",
       "LONGITUDE                        float64\n",
       "ON STREET NAME                    object\n",
       "NUMBER OF PEDESTRIANS INJURED      int64\n",
       "NUMBER OF PEDESTRIANS KILLED       int64\n",
       "NUMBER OF CYCLIST INJURED          int64\n",
       "NUMBER OF CYCLIST KILLED           int64\n",
       "NUMBER OF MOTORIST INJURED         int64\n",
       "NUMBER OF MOTORIST KILLED          int64\n",
       "CONTRIBUTING FACTOR VEHICLE 1     object\n",
       "CONTRIBUTING FACTOR VEHICLE 2     object\n",
       "CONTRIBUTING FACTOR VEHICLE 3     object\n",
       "CONTRIBUTING FACTOR VEHICLE 4     object\n",
       "CONTRIBUTING FACTOR VEHICLE 5     object\n",
       "COLLISION_ID                       int64\n",
       "VEHICLE TYPE CODE 1               object\n",
       "VEHICLE TYPE CODE 2               object\n",
       "VEHICLE TYPE CODE 3               object\n",
       "VEHICLE TYPE CODE 4               object\n",
       "VEHICLE TYPE CODE 5               object\n",
       "dtype: object"
      ]
     },
     "execution_count": 7,
     "metadata": {},
     "output_type": "execute_result"
    }
   ],
   "source": [
    "df.dtypes #checking the dtypes within the dataframe"
   ]
  },
  {
   "cell_type": "code",
   "execution_count": 9,
   "metadata": {},
   "outputs": [
    {
     "data": {
      "image/png": "[encoded data removed]",
      "text/plain": [
       "<Figure size 432x288 with 1 Axes>"
      ]
     },
     "metadata": {
      "needs_background": "light"
     },
     "output_type": "display_data"
    }
   ],
   "source": [
    "df['DATE'] = pd.to_datetime(df['DATE']) #convert DATE to datetime\n",
    "monthly_accidents = df.groupby(df['DATE'].dt.to_period(freq='M')).size() #create variable monthly_accidents that groups the dataframe by the month indicated in the date field and take the size of each group\n",
    "monthly_accidents.plot.line() #plot the monthly_accidents table on a line chart\n",
    "plt.title('Accidents Each Month') #set title for chart\n",
    "plt.xlabel('Month') #set xlabel for chart\n",
    "plt.ylabel('# of Reported Accidents') #set ylabel for chart\n",
    "plt.show() #show the chart"
   ]
  },
  {
   "cell_type": "markdown",
   "metadata": {},
   "source": [
    "<h3>Exercise 3 :</h3>\n",
    "<p>From the plot above, which months seem to have the least number of accidents? What do you think are the reasons behind this?</p>"
   ]
  },
  {
   "cell_type": "markdown",
   "metadata": {
    "tags": [
     "ans_st"
    ]
   },
   "source": [
    "**Answer.**"
   ]
  },
  {
   "cell_type": "markdown",
   "metadata": {},
   "source": [
    "January, February, and April have the **least** number of accidents. I believe this is likely due to decreased travel during these months (minimal holidays and vacations). "
   ]
  },
  {
   "cell_type": "markdown",
   "metadata": {},
   "source": [
    "<h3>Exercise 4 :</h3>\n",
    "<p>How does the number of accidents vary throughout a single day? Create a new column <code>HOUR</code> based on the data from the <code>TIME</code> column, then plot a bar graph of the distribution per hour throughout the day.</p>\n",
    "<p><strong>Hint:</strong> You may find the function <code>dt.hour</code> useful. </p>"
   ]
  },
  {
   "cell_type": "markdown",
   "metadata": {
    "tags": [
     "ans_st"
    ]
   },
   "source": [
    "**Answer.**"
   ]
  },
  {
   "cell_type": "code",
   "execution_count": 11,
   "metadata": {},
   "outputs": [
    {
     "data": {
      "image/png": "[encoded data removed]",
      "text/plain": [
       "<Figure size 432x288 with 1 Axes>"
      ]
     },
     "metadata": {
      "needs_background": "light"
     },
     "output_type": "display_data"
    }
   ],
   "source": [
    "df['TIME'] = pd.to_datetime(df['TIME']) #convert dtype for time column to datetime\n",
    "df['HOUR'] = df['TIME'].dt.hour #create column 'HOUR' to capture the hour time from the time column\n",
    "hourly_accidents = df.groupby(df['HOUR']).size() #group the df by 'HOUR' size/freq of occurance \n",
    "hourly_accidents.plot.bar(color='lavender') #plot bar chart\n",
    "plt.title('Accidents by the Hour') #add title\n",
    "plt.xlabel('Hour') #label x axis\n",
    "plt.ylabel('# of Reported Accidents') #label y axis\n",
    "plt.xticks(range(0,24)) #set tick locations to reflect hour range \n",
    "plt.show() #show bar plot"
   ]
  },
  {
   "cell_type": "markdown",
   "metadata": {},
   "source": [
    "<p>From this, we see that more accidents occur in the afternoon (2 - 6 PM) than at other times of day.</p>"
   ]
  },
  {
   "cell_type": "markdown",
   "metadata": {},
   "source": [
    "<h3>Exercise 5 :</h3>\n",
    "<p>In the above question we have aggregated the number accidents per hour disregarding the date and place of ocurrence. Which criticism would you give to this approach?</p>"
   ]
  },
  {
   "cell_type": "markdown",
   "metadata": {
    "tags": [
     "ans_st"
    ]
   },
   "source": [
    "**Answer.**"
   ]
  },
  {
   "cell_type": "markdown",
   "metadata": {},
   "source": [
    "Without knowing the dates or location, these observations aren't useful in deriving many insights much less they do not provide clear guidance that would inform the policies being considered by the state of NY. For example, while we're aware most accidents take place in the afternoon that may not necessarily be true for all locations and wouldn't be sufficient to inform where a policy such as a pedestrian island would be most useful."
   ]
  },
  {
   "cell_type": "markdown",
   "metadata": {},
   "source": [
    "<h3>Exercise 6 :</h3>\n",
    "<p>How does the number of accidents vary throughout a single week? Plot a bar graph based on the accidents count by day of the week.</p>\n",
    "<p><strong>Hint:</strong> You may find the function <code>dt.weekday</code> useful.</p>"
   ]
  },
  {
   "cell_type": "markdown",
   "metadata": {
    "tags": [
     "ans_st"
    ]
   },
   "source": [
    "**Answer.**"
   ]
  },
  {
   "cell_type": "code",
   "execution_count": 11,
   "metadata": {},
   "outputs": [
    {
     "data": {
      "image/png": "[encoded data removed]",
      "text/plain": [
       "<Figure size 432x288 with 1 Axes>"
      ]
     },
     "metadata": {
      "needs_background": "light"
     },
     "output_type": "display_data"
    }
   ],
   "source": [
    "weekdays = ['Monday', 'Tuesday', 'Wednesday', 'Thursday','Friday','Saturday','Sunday'] #create list of ordered weekdays to reindex chart\n",
    "weekday_accidents = df.groupby(df['DATE'].dt.weekday_name).size().reindex(weekdays) #convert DATE to weekdays, group by week day and freq/size of accidents, and reindex days of the week in order\n",
    "weekday_accidents.plot.bar(color = 'tan') #plot bar graph of accidents by weekday\n",
    "plt.title('Accidents by Weekday') #add title\n",
    "plt.xlabel('Weekday') #label x axis\n",
    "plt.ylabel('# of Reported Accidents') #label y axis\n",
    "plt.show() #display the chart"
   ]
  },
  {
   "cell_type": "markdown",
   "metadata": {},
   "source": [
    "<h3>Exercise 7 :</h3>\n",
    "<p>Plot a bar graph of the total number of accidents in each borough, as well as one of the accidents per square mile per borough. What can you conclude?</p>\n",
    "<p><strong>Hint:</strong> You may want to update some of the keys in the borough dictionary to match the names in the dataframe. </p>"
   ]
  },
  {
   "cell_type": "markdown",
   "metadata": {},
   "source": [
    "<font color='pink'> **ANSWER PART I REPORTED ACCIDENTS BY BOROUGH (GRAPH)** </font>"
   ]
  },
  {
   "cell_type": "code",
   "execution_count": 12,
   "metadata": {},
   "outputs": [
    {
     "data": {
      "image/png": "[encoded data removed]",
      "text/plain": [
       "<Figure size 432x288 with 1 Axes>"
      ]
     },
     "metadata": {
      "needs_background": "light"
     },
     "output_type": "display_data"
    }
   ],
   "source": [
    "#Part 1\n",
    "borough_accidents = df.groupby('BOROUGH').size() #create variable to group df by borough and freq/size of instances in df\n",
    "borough_accidents.plot.bar(color = 'pink') #plot bar chart of results; pink is for style \n",
    "plt.title('Reported Accidents by Borough') #add title\n",
    "plt.xlabel('Borough') #label x axis\n",
    "plt.ylabel('# of Reported Accidents') #label y axis\n",
    "plt.show() #display the chart"
   ]
  },
  {
   "cell_type": "markdown",
   "metadata": {},
   "source": [
    "<font color='teal'> **ANSWER PART II REPORTED ACCIDENTS PER SQ. MILE BY BOROUGH (GRAPH)** </font>"
   ]
  },
  {
   "cell_type": "code",
   "execution_count": 14,
   "metadata": {},
   "outputs": [
    {
     "data": {
      "text/html": [
       "<div>\n",
       "<style scoped>\n",
       "    .dataframe tbody tr th:only-of-type {\n",
       "        vertical-align: middle;\n",
       "    }\n",
       "\n",
       "    .dataframe tbody tr th {\n",
       "        vertical-align: top;\n",
       "    }\n",
       "\n",
       "    .dataframe thead th {\n",
       "        text-align: right;\n",
       "    }\n",
       "</style>\n",
       "<table border=\"1\" class=\"dataframe\">\n",
       "  <thead>\n",
       "    <tr style=\"text-align: right;\">\n",
       "      <th></th>\n",
       "      <th>area</th>\n",
       "      <th>population</th>\n",
       "      <th>rep_accidents</th>\n",
       "      <th>accidents_by_sqmile</th>\n",
       "    </tr>\n",
       "    <tr>\n",
       "      <th>BOROUGH</th>\n",
       "      <th></th>\n",
       "      <th></th>\n",
       "      <th></th>\n",
       "      <th></th>\n",
       "    </tr>\n",
       "  </thead>\n",
       "  <tbody>\n",
       "    <tr>\n",
       "      <th>BRONX</th>\n",
       "      <td>42.1</td>\n",
       "      <td>1.47116e+06</td>\n",
       "      <td>37709</td>\n",
       "      <td>895.701</td>\n",
       "    </tr>\n",
       "    <tr>\n",
       "      <th>BROOKLYN</th>\n",
       "      <td>70.82</td>\n",
       "      <td>2.64877e+06</td>\n",
       "      <td>76253</td>\n",
       "      <td>1076.72</td>\n",
       "    </tr>\n",
       "    <tr>\n",
       "      <th>MANHATTAN</th>\n",
       "      <td>22.83</td>\n",
       "      <td>1.66473e+06</td>\n",
       "      <td>48749</td>\n",
       "      <td>2135.3</td>\n",
       "    </tr>\n",
       "    <tr>\n",
       "      <th>QUEENS</th>\n",
       "      <td>108.53</td>\n",
       "      <td>2.35858e+06</td>\n",
       "      <td>67120</td>\n",
       "      <td>618.447</td>\n",
       "    </tr>\n",
       "    <tr>\n",
       "      <th>STATEN ISLAND</th>\n",
       "      <td>58.37</td>\n",
       "      <td>479458</td>\n",
       "      <td>8691</td>\n",
       "      <td>148.895</td>\n",
       "    </tr>\n",
       "  </tbody>\n",
       "</table>\n",
       "</div>"
      ],
      "text/plain": [
       "                 area   population  rep_accidents accidents_by_sqmile\n",
       "BOROUGH                                                              \n",
       "BRONX            42.1  1.47116e+06          37709             895.701\n",
       "BROOKLYN        70.82  2.64877e+06          76253             1076.72\n",
       "MANHATTAN       22.83  1.66473e+06          48749              2135.3\n",
       "QUEENS         108.53  2.35858e+06          67120             618.447\n",
       "STATEN ISLAND   58.37       479458           8691             148.895"
      ]
     },
     "metadata": {},
     "output_type": "display_data"
    },
    {
     "data": {
      "image/png": "[encoded data removed]",
      "text/plain": [
       "<Figure size 432x288 with 1 Axes>"
      ]
     },
     "metadata": {
      "needs_background": "light"
     },
     "output_type": "display_data"
    }
   ],
   "source": [
    "#Part 2\n",
    "borough_copy = borough_data.copy() #make copy of the borough data for analysis\n",
    "borough_copy.update({k.upper():v for k, v in borough_copy.items()}) #convert dict_keys to upper case\n",
    "rem_list = ['the bronx', 'brooklyn', 'manhattan', 'queens', 'staten island'] #above value duplicated dict, so this list serves to remove duplicated old values in the below function\n",
    "borough_copy = dict([(key, val) for key, val in borough_copy.items() #remove old key values that were duplicated\n",
    "                    if key not in rem_list])\n",
    "new_df = pd.DataFrame(borough_copy) #convert dict to dataframe\n",
    "new_df = new_df.rename(columns = {'THE BRONX':'BRONX'}) #rename column to match accident df\n",
    "new_df = new_df.drop(['name']) #drop name column\n",
    "new_df = new_df.T #transpose table so locations are index\n",
    "new_df.index.name = 'BOROUGH'#name index col 'BOROUGH'\n",
    "\n",
    "new_df['rep_accidents'] = borough_accidents #create new column to bring in accident data\n",
    "new_df['accidents_by_sqmile'] = new_df['rep_accidents']/new_df['area'] #create new column to calculate and display accidents by sq mile\n",
    "display(new_df)\n",
    "new_df.plot.bar(y='accidents_by_sqmile', color='teal', legend=None) #plot bar chart\n",
    "plt.title('Reported Accidents per Sq. Mile') #add title\n",
    "plt.xlabel('Borough') #label x axis\n",
    "plt.ylabel('# of Reported Accidents') #label y axis\n",
    "plt.show() #display chart\n"
   ]
  },
  {
   "cell_type": "markdown",
   "metadata": {},
   "source": [
    "<h4>**ANSWER PART III RESPONSE**</h4>\n",
    "\n",
    "***What can you conclude?***\n",
    "\n",
    "Although Brooklyn experienced the highest total volume of reported accidents, Manhattan had the highest overall concentration per sq. foot. In analyzing the area and population data alongside the # of reported accidents, it's fair to attribute/expect higher accident numbers (overall) for Queens and Brooklyn (due) to their larger populations and area size. Given the domain knowledge I have about New York, Manhattan's high accidents per sq. mile isn't surprising given that it's a hub for many major businesses/shops in NYC. "
   ]
  },
  {
   "cell_type": "markdown",
   "metadata": {},
   "source": [
    "<h3>Exercise 8 :</h3>\n",
    "<p>Which hours have the most accidents for each borough? Plot a bar graph for each borough showing the number of accidents for each hour of the day.</p>\n",
    "<p><strong>Hint:</strong> You can use <code>sns.FacetGrid</code> to create a grid of plots with the hourly data of each borough. </p>"
   ]
  },
  {
   "cell_type": "markdown",
   "metadata": {
    "tags": [
     "ans_st"
    ]
   },
   "source": [
    "**Answer.**"
   ]
  },
  {
   "cell_type": "code",
   "execution_count": 48,
   "metadata": {},
   "outputs": [
    {
     "data": {
      "text/plain": [
       "<seaborn.axisgrid.FacetGrid at 0x7fcc7c2c12e8>"
      ]
     },
     "execution_count": 48,
     "metadata": {},
     "output_type": "execute_result"
    },
    {
     "data": {
      "image/png": "[encoded data removed]",
      "text/plain": [
       "<Figure size 1080x216 with 5 Axes>"
      ]
     },
     "metadata": {
      "needs_background": "light"
     },
     "output_type": "display_data"
    }
   ],
   "source": [
    "hourly_accidents = pd.DataFrame({'count': df.groupby(['BOROUGH','HOUR']).size()}) #create DF of dict that displays count of accidents grouped by borough and hour\n",
    "hourly_accidents = hourly_accidents.reset_index() #reset index\n",
    "\n",
    "g = sns.FacetGrid(hourly_accidents, col='BOROUGH') #create plot for grids for each borough\n",
    "g.map(sns.barplot, 'HOUR', 'count', order=None) #add data to chart"
   ]
  },
  {
   "cell_type": "markdown",
   "metadata": {},
   "source": [
    "<p><strong>Is the number of accidents higher at different times in different boroughs? Should we concentrate at different times for each borough?</strong></p>\n",
    "\n",
    "**RESPONSE**\n",
    "The number of accidents generally mirrors similar behaviors with the highest concentration still falling between 2-6PM, but it's worth noting that the accident totals are relatively the same throughout all hours for Manhattan, the Bronx, and Staten Island with Staten Island having the lowest overall number of accidents(which is consistent with the above charts segmented by borough)."
   ]
  },
  {
   "cell_type": "markdown",
   "metadata": {},
   "source": [
    "<p>We can see that in all the boroughs the accident count is highest from approximately 2 - 6PM. But in Manhattan and the Bronx, you can see that there is not as much of a relative increase during these hours as in Brooklyn or Queens. Additionally, Staten Island has the lowest overall number of accidents.</p>"
   ]
  },
  {
   "cell_type": "markdown",
   "metadata": {},
   "source": [
    "<h3>Exercise 9 :</h3>\n",
    "<p>What factors cause the most accidents? Avoid double counting the contributing factors of a single accident. </p>\n",
    "<p><strong>Hint:</strong> One way of dealing with repetitions is to concatenate the corresponding columns while preserving their indexes, you can do that with the functions <code>pd.concat()</code> and  <code>reset_index()</code>. Then, use an appropiate <code>group_by</code> to count the number of repetitions of contributed factors per accident.   </p>"
   ]
  },
  {
   "cell_type": "code",
   "execution_count": 5,
   "metadata": {},
   "outputs": [
    {
     "data": {
      "text/plain": [
       "Factors\n",
       "Unspecified                       979902\n",
       "Driver Inattention/Distraction     72203\n",
       "Name: Factors, dtype: int64"
      ]
     },
     "execution_count": 5,
     "metadata": {},
     "output_type": "execute_result"
    }
   ],
   "source": [
    "df_copy = df.copy() #create copy of df (note: I should've done this earlier on in the notebook)\n",
    "#create a dataframe that concatenates all five contributing factors vertically\n",
    "df_factors = pd.concat([df_copy['CONTRIBUTING FACTOR VEHICLE 1'], \n",
    "                      df_copy['CONTRIBUTING FACTOR VEHICLE 2'],\n",
    "                      df_copy['CONTRIBUTING FACTOR VEHICLE 3'],\n",
    "                      df_copy['CONTRIBUTING FACTOR VEHICLE 4'],\n",
    "                      df_copy['CONTRIBUTING FACTOR VEHICLE 5']], axis = 0, join = 'inner')\n",
    "\n",
    "\n",
    "#replace NaN's with 'Unspecified'\n",
    "df_factors = pd.DataFrame(df_factors).fillna('Unspecified')\n",
    "\n",
    "#reset index and rename column to 'Factors'\n",
    "df_factors = df_factors.reset_index().rename(columns={0:'Factors'})\n",
    "df_factors\n",
    "\n",
    "#group df to count the number of occurences by factor \n",
    "df_factors_grouped = df_factors.groupby('Factors')['Factors'].count().sort_values(ascending = False)\n",
    "df_factors_grouped.head(2)"
   ]
  },
  {
   "cell_type": "markdown",
   "metadata": {},
   "source": [
    "**RESPONSE**\n",
    "\n",
    "It appears that for most (max) accidents, the contributing factor was unspecified. However, in instances where the contributing factor(s) were specified, Driver Inattention/Distration was the leading factor."
   ]
  },
  {
   "cell_type": "markdown",
   "metadata": {},
   "source": [
    "<h3>Exercise 10 :</h3>\n",
    "<p>Which vehicle types are most involved in accidents per borough? Avoid double counting the type of vehicles present in a single accident. </p>\n",
    "<p><strong>Hint:</strong> You can apply a similar approach to the one used in the previous question.</p>"
   ]
  },
  {
   "cell_type": "code",
   "execution_count": 295,
   "metadata": {},
   "outputs": [
    {
     "name": "stdout",
     "output_type": "stream",
     "text": [
      "BRONX\n",
      "VT\n",
      "station wagon/sport utility vehicle    37693\n",
      "sedan                                  19652\n",
      "passenger vehicle                       4941\n",
      "pick-up truck                           2093\n",
      "taxi                                    2058\n",
      "Name: VT, dtype: int64\n",
      "AxesSubplot(0.125,0.125;0.775x0.755)\n"
     ]
    },
    {
     "data": {
      "image/png": "[encoded data removed]",
      "text/plain": [
       "<Figure size 432x288 with 1 Axes>"
      ]
     },
     "metadata": {
      "needs_background": "light"
     },
     "output_type": "display_data"
    },
    {
     "name": "stdout",
     "output_type": "stream",
     "text": [
      "NEXT\n",
      "\n",
      "BROOKLYN\n",
      "VT\n",
      "station wagon/sport utility vehicle    76205\n",
      "sedan                                  39459\n",
      "passenger vehicle                      10177\n",
      "pick-up truck                           3986\n",
      "taxi                                    2754\n",
      "Name: VT, dtype: int64\n",
      "AxesSubplot(0.125,0.125;0.775x0.755)\n"
     ]
    },
    {
     "data": {
      "image/png": "[encoded data removed]",
      "text/plain": [
       "<Figure size 432x288 with 1 Axes>"
      ]
     },
     "metadata": {
      "needs_background": "light"
     },
     "output_type": "display_data"
    },
    {
     "name": "stdout",
     "output_type": "stream",
     "text": [
      "NEXT\n",
      "\n",
      "MANHATTAN\n",
      "VT\n",
      "station wagon/sport utility vehicle    48731\n",
      "sedan                                  20727\n",
      "taxi                                   11955\n",
      "passenger vehicle                       5627\n",
      "box truck                               3545\n",
      "Name: VT, dtype: int64\n",
      "AxesSubplot(0.125,0.125;0.775x0.755)\n"
     ]
    },
    {
     "data": {
      "image/png": "[encoded data removed]",
      "text/plain": [
       "<Figure size 432x288 with 1 Axes>"
      ]
     },
     "metadata": {
      "needs_background": "light"
     },
     "output_type": "display_data"
    },
    {
     "name": "stdout",
     "output_type": "stream",
     "text": [
      "NEXT\n",
      "\n",
      "QUEENS\n",
      "VT\n",
      "station wagon/sport utility vehicle    67085\n",
      "sedan                                  35103\n",
      "passenger vehicle                       8952\n",
      "pick-up truck                           3912\n",
      "taxi                                    2268\n",
      "Name: VT, dtype: int64\n",
      "AxesSubplot(0.125,0.125;0.775x0.755)\n"
     ]
    },
    {
     "data": {
      "image/png": "[encoded data removed]",
      "text/plain": [
       "<Figure size 432x288 with 1 Axes>"
      ]
     },
     "metadata": {
      "needs_background": "light"
     },
     "output_type": "display_data"
    },
    {
     "name": "stdout",
     "output_type": "stream",
     "text": [
      "NEXT\n",
      "\n",
      "STATEN ISLAND\n",
      "VT\n",
      "station wagon/sport utility vehicle    8687\n",
      "sedan                                  4773\n",
      "passenger vehicle                      1531\n",
      "pick-up truck                           694\n",
      "bus                                      93\n",
      "Name: VT, dtype: int64\n",
      "AxesSubplot(0.125,0.125;0.775x0.755)\n"
     ]
    },
    {
     "data": {
      "image/png": "[encoded data removed]",
      "text/plain": [
       "<Figure size 432x288 with 1 Axes>"
      ]
     },
     "metadata": {
      "needs_background": "light"
     },
     "output_type": "display_data"
    },
    {
     "name": "stdout",
     "output_type": "stream",
     "text": [
      "NEXT\n",
      "\n"
     ]
    }
   ],
   "source": [
    "#create individual dataframes of in preparation for concatenating vehicle types\n",
    "v1 = df_copy[['BOROUGH', 'VEHICLE TYPE CODE 1']]\n",
    "v2 = df_copy[['BOROUGH', 'VEHICLE TYPE CODE 2']]\n",
    "v3 = df_copy[['BOROUGH', 'VEHICLE TYPE CODE 3']]\n",
    "v4 = df_copy[['BOROUGH', 'VEHICLE TYPE CODE 4']]\n",
    "v5 = df_copy[['BOROUGH', 'VEHICLE TYPE CODE 5']]\n",
    "\n",
    "#reset index\n",
    "v1 = v1.reset_index()\n",
    "v2 = v2.reset_index()\n",
    "v3 = v3.reset_index()\n",
    "v4 = v4.reset_index()\n",
    "v5 = v5.reset_index()\n",
    "\n",
    "#define columns to be included in new df post-concatenation\n",
    "\n",
    "v1.columns = ['index', 'BOROUGH', 'VT']\n",
    "v2.columns = ['index', 'BOROUGH', 'VT']\n",
    "v3.columns = ['index', 'BOROUGH', 'VT']\n",
    "v4.columns = ['index', 'BOROUGH', 'VT']\n",
    "v5.columns = ['index', 'BOROUGH', 'VT']\n",
    "\n",
    "#concatenate vehicle types\n",
    "all_vehicles = pd.concat([v1, v2, v3, v4, v5])\n",
    "all_vehicles\n",
    "\n",
    "#simple data cleansing, convert all vehicle types to lower case and combine the two station wagon labels\n",
    "all_vehicles['VT'] = all_vehicles['VT'].str.lower()\n",
    "station_wagon = all_vehicles['VT'].str.contains('station')\n",
    "all_vehicles['VT'] = numpy.where(station_wagon, 'station wagon/sport utility vehicle', all_vehicles['VT'])\n",
    "\n",
    "#remove duplicates\n",
    "drop_dup_vehicles = all_vehicles.drop_duplicates()\n",
    "new_vehicles = drop_dup_vehicles.groupby('BOROUGH')\n",
    "\n",
    "#graph top five vehicle types resulting in accidents across each borough\n",
    "for i in new_vehicles:\n",
    "    a = i[1].groupby('VT')['VT'].count()\n",
    "    a = a.sort_values(ascending = False).head(5)\n",
    "    print(i[0])\n",
    "    print(a)\n",
    "    print(a.plot.bar())\n",
    "    plt.show()\n",
    "    print('NEXT\\n')"
   ]
  },
  {
   "cell_type": "markdown",
   "metadata": {},
   "source": [
    "<h3>Exercise 11 :</h3>\n",
    "<p>In a 2018 <a href=\"https://www.nytimes.com/2019/01/01/nyregion/traffic-deaths-decrease-nyc.html\">interview</a> with The New York Times, New York's mayor de Blasio stated that <em>'Vision Zero is clearly working'</em>. That year, the number of deaths in traffic accidents in NYC dropped to a historical 202. Yet, as reported by <a href=\"https://www.amny.com/news/vision-zero-de-blasio-1-30707464/\">am New York Metro</a>, the number of fatalities has increased by 30% in the first quarter of 2019 compared to the previous year and the number of pedestrians and cyclist injured has not seen any improvement.</p>\n",
    "<p>How would you use the provided data to understand what went wrong in the first quarter of 2019?</p>\n",
    "<blockquote>\n",
    "<ul>\n",
    "<li>\n",
    "<p>[ ] Consider the accidents of the first quarter of 2019. Then, check for the most common causes of accidents where pedestrians and cyclists were involved. Give a recommendation based solely on this information. </p>\n",
    "</li>\n",
    "<li>\n",
    "<p>[ ] Create a pair of heatmaps of the accidents involving injured/killed pedestrians and cyclists in the first quarter of 2018 and 2019. Compare these two to see if there is any change in the concentration of accidents. In critical areas, study the type of factors involved in the accidents. Give a recommendation to visit these areas to study the problem further.    </p>\n",
    "</li>\n",
    "<li>\n",
    "<p>[ ] The provided data is insufficient to improve our understanding of the situation.</p>\n",
    "</li>\n",
    "<li>\n",
    "<p>[ ] None of the above. I would do the following: <em>here your recommended answer</em>.</p>\n",
    "</li>\n",
    "</ul>\n",
    "</blockquote>"
   ]
  },
  {
   "cell_type": "markdown",
   "metadata": {
    "tags": [
     "ans_st"
    ]
   },
   "source": [
    "**Answer.**\n",
    "<p>[ ] Consider the accidents of the first quarter of 2019. Then, check for the most common causes of accidents where pedestrians and cyclists were involved. Give a recommendation based solely on this information. </p>\n",
    "</li>\n",
    "<li>\n",
    "<p>[ x ] Create a pair of heatmaps of the accidents involving injured/killed pedestrians and cyclists in the first quarter of 2018 and 2019. Compare these two to see if there is any change in the concentration of accidents. In critical areas, study the type of factors involved in the accidents. Give a recommendation to visit these areas to study the problem further.    </p>\n",
    "</li>\n",
    "<li>\n",
    "<p>[ ] The provided data is insufficient to improve our understanding of the situation.</p>\n",
    "</li>\n",
    "<li>\n",
    "<p>[ ] None of the above. I would do the following: <em>here your recommended answer</em>.</p>\n",
    "</li>\n",
    "</ul>\n",
    "</blockquote>\n",
    "\n",
    "**Additional Note:** I would also look into the data quality (i.e. missing values) present in both the 2018 and 2019 data to see if the story is at all being skewed due to missing values and/or unspecified accident details. Also, I think it's important to look into the information provided in option 1 (quarterly data comparison), but know that this information is not sufficient to be the sole source of insights for measuring success on *Vision Zero*."
   ]
  },
  {
   "cell_type": "markdown",
   "metadata": {},
   "source": [
    "<h3>Exercise 12 :</h3>\n",
    "<p>Calculate the number of deaths caused by each type of vehicle. Plot a bar chart for the top 5 vehicles. Which vehicles are most often involved in deaths, and by how much more than the others?</p>\n",
    "<p><strong>For example,</strong> if two people died at an accident where 5 vehicles were involved: 4 are PASSENGER VEHICLE and 1 is a SPORT UTILITY/STATION WAGON. Then, we would add two deaths to each PASSENGER VEHICLE and SPORT UTILITY/STATION WAGON types.</p>\n",
    "<p><strong>Hint:</strong> You may want to create a new column with the total number of kills in the accident. For that you may find the function <code>.to_numpy()</code> useful. Then, proceed as the previous excercises to avoid double-counting the type of vehicles. </p>"
   ]
  },
  {
   "cell_type": "markdown",
   "metadata": {
    "tags": [
     "ans_st"
    ]
   },
   "source": [
    "**Answer.**"
   ]
  },
  {
   "cell_type": "code",
   "execution_count": 10,
   "metadata": {},
   "outputs": [
    {
     "data": {
      "image/png": "[encoded data removed]",
      "text/plain": [
       "<Figure size 432x288 with 1 Axes>"
      ]
     },
     "metadata": {
      "needs_background": "light"
     },
     "output_type": "display_data"
    },
    {
     "data": {
      "text/plain": [
       "VT\n",
       "station wagon/sport utility vehicle    221\n",
       "sedan                                   65\n",
       "motorcycle                              23\n",
       "passenger vehicle                       21\n",
       "bike                                    19\n",
       "Name: TOTAL KILLED, dtype: int64"
      ]
     },
     "execution_count": 10,
     "metadata": {},
     "output_type": "execute_result"
    }
   ],
   "source": [
    "#create column Total Killed to combine column values that record the amount of deaths per incident\n",
    "df_copy['TOTAL KILLED'] = df_copy['NUMBER OF MOTORIST KILLED'] + df_copy['NUMBER OF CYCLIST KILLED'] + df_copy['NUMBER OF PEDESTRIANS KILLED']\n",
    "\n",
    "only_fatal = df_copy['TOTAL KILLED'] > 0 \n",
    "\n",
    "df_deadly = df_copy[only_fatal]\n",
    "\n",
    "#create individual dataframes of in preparation for concatenating vehicle types and fatalities\n",
    "vdeaths1 = df_deadly[['VEHICLE TYPE CODE 1', 'TOTAL KILLED']]\n",
    "vdeaths2 = df_deadly[['VEHICLE TYPE CODE 2', 'TOTAL KILLED']]\n",
    "vdeaths3 = df_deadly[['VEHICLE TYPE CODE 3', 'TOTAL KILLED']]\n",
    "vdeaths4 = df_deadly[['VEHICLE TYPE CODE 4', 'TOTAL KILLED']]\n",
    "vdeaths5 = df_deadly[['VEHICLE TYPE CODE 5', 'TOTAL KILLED']]\n",
    "\n",
    "#reset indexes\n",
    "vdeaths1 = vdeaths1.reset_index()\n",
    "vdeaths2 = vdeaths2.reset_index()\n",
    "vdeaths3 = vdeaths3.reset_index()\n",
    "vdeaths4 = vdeaths4.reset_index()\n",
    "vdeaths5 = vdeaths5.reset_index()\n",
    "\n",
    "#define columns to be included in new df post-concatenation\n",
    "vdeaths1.columns = ['index', 'VT', 'TOTAL KILLED']\n",
    "vdeaths2.columns = ['index', 'VT', 'TOTAL KILLED']\n",
    "vdeaths3.columns = ['index', 'VT', 'TOTAL KILLED']\n",
    "vdeaths4.columns = ['index', 'VT', 'TOTAL KILLED']\n",
    "vdeaths5.columns = ['index', 'VT', 'TOTAL KILLED']\n",
    "\n",
    "#concatenate total fatalities across vehicle types\n",
    "all_deaths = pd.concat([vdeaths1, vdeaths2, vdeaths3, vdeaths4, vdeaths5])\n",
    "all_deaths\n",
    "\n",
    "#simple data cleansing, convert all vehicle types to lower case and combine the two station wagon labels\n",
    "all_deaths['VT'] = all_deaths['VT'].str.lower()\n",
    "station_wagon = all_deaths['VT'].str.contains('station')\n",
    "all_deaths['VT'] = numpy.where(station_wagon, 'station wagon/sport utility vehicle', all_deaths['VT'])\n",
    "\n",
    "#remove duplicates and plot top five vehicles resulting in fatalities\n",
    "all_deaths_drop = all_deaths.drop_duplicates()\n",
    "new_all_deaths = all_deaths_drop.groupby('VT')['TOTAL KILLED'].sum().sort_values(ascending = False).head(5)\n",
    "new_all_deaths.plot.bar(legend=None, y='TOTAL KILLED')\n",
    "plt.show()\n",
    "\n",
    "#print(new_all_deaths.pct_change())\n",
    "new_all_deaths"
   ]
  },
  {
   "cell_type": "code",
   "execution_count": null,
   "metadata": {},
   "outputs": [],
   "source": []
  }
 ],
 "metadata": {
  "kernelspec": {
   "display_name": "Python 3",
   "language": "python",
   "name": "python3"
  },
  "language_info": {
   "codemirror_mode": {
    "name": "ipython",
    "version": 3
   },
   "file_extension": ".py",
   "mimetype": "text/x-python",
   "name": "python",
   "nbconvert_exporter": "python",
   "pygments_lexer": "ipython3",
   "version": "3.6.7"
  }
 },
 "nbformat": 4,
 "nbformat_minor": 2
}
